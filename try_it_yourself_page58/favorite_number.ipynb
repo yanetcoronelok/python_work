{
 "cells": [
  {
   "cell_type": "markdown",
   "id": "9db4e238",
   "metadata": {},
   "source": [
    " Favorite Number: Use a variable to represent your favorite number. Then, using that variable, create a message that reveals your favorite number. Print that message."
   ]
  },
  {
   "cell_type": "code",
   "execution_count": 1,
   "id": "6829c10f",
   "metadata": {},
   "outputs": [],
   "source": [
    "favorite_number = 22\n",
    "\n",
    "message = f'My favorite number is {favorite_number}'"
   ]
  },
  {
   "cell_type": "code",
   "execution_count": 2,
   "id": "d5f9a156",
   "metadata": {},
   "outputs": [
    {
     "data": {
      "text/plain": [
       "'My favorite number is 22'"
      ]
     },
     "execution_count": 2,
     "metadata": {},
     "output_type": "execute_result"
    }
   ],
   "source": [
    "message"
   ]
  },
  {
   "cell_type": "code",
   "execution_count": null,
   "id": "3657949f",
   "metadata": {},
   "outputs": [],
   "source": [
    "#Page 58"
   ]
  }
 ],
 "metadata": {
  "kernelspec": {
   "display_name": "Python 3",
   "language": "python",
   "name": "python3"
  },
  "language_info": {
   "codemirror_mode": {
    "name": "ipython",
    "version": 3
   },
   "file_extension": ".py",
   "mimetype": "text/x-python",
   "name": "python",
   "nbconvert_exporter": "python",
   "pygments_lexer": "ipython3",
   "version": "3.13.3"
  }
 },
 "nbformat": 4,
 "nbformat_minor": 5
}
