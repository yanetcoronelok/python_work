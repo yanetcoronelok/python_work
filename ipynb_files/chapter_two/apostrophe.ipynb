{
 "cells": [
  {
   "cell_type": "markdown",
   "id": "f5989e58",
   "metadata": {},
   "source": [
    "A syntax error occurs when Python doesn’t recognize a section of your program as valid Python code."
   ]
  },
  {
   "cell_type": "code",
   "execution_count": null,
   "id": "6457b071",
   "metadata": {},
   "outputs": [
    {
     "data": {
      "text/plain": [
       "\"One of Python's strengths is its diverse community.\""
      ]
     },
     "execution_count": 1,
     "metadata": {},
     "output_type": "execute_result"
    }
   ],
   "source": [
    "# Using  double quotes\n",
    "message = \"One of Python's strengths is its diverse community.\"\n",
    "message"
   ]
  },
  {
   "cell_type": "code",
   "execution_count": 2,
   "id": "f55a12e4",
   "metadata": {},
   "outputs": [
    {
     "ename": "SyntaxError",
     "evalue": "unterminated string literal (detected at line 2) (4082794676.py, line 2)",
     "output_type": "error",
     "traceback": [
      "  \u001b[36mCell\u001b[39m\u001b[36m \u001b[39m\u001b[32mIn[2]\u001b[39m\u001b[32m, line 2\u001b[39m\n\u001b[31m    \u001b[39m\u001b[31mmessage_apostrophe = 'One of Python's strengths is its diverse community.'\u001b[39m\n                                                                             ^\n\u001b[31mSyntaxError\u001b[39m\u001b[31m:\u001b[39m unterminated string literal (detected at line 2)\n"
     ]
    }
   ],
   "source": [
    "# Using apostrophes\n",
    "message_apostrophe = 'One of Python's strengths is its diverse community.'\n",
    "message_apostrophe"
   ]
  }
 ],
 "metadata": {
  "kernelspec": {
   "display_name": "Python 3",
   "language": "python",
   "name": "python3"
  },
  "language_info": {
   "codemirror_mode": {
    "name": "ipython",
    "version": 3
   },
   "file_extension": ".py",
   "mimetype": "text/x-python",
   "name": "python",
   "nbconvert_exporter": "python",
   "pygments_lexer": "ipython3",
   "version": "3.13.3"
  }
 },
 "nbformat": 4,
 "nbformat_minor": 5
}
