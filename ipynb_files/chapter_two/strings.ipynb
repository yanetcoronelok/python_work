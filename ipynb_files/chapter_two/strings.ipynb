{
 "cells": [
  {
   "cell_type": "code",
   "execution_count": 2,
   "id": "cbdf579a",
   "metadata": {},
   "outputs": [
    {
     "data": {
      "text/plain": [
       "'This is a string.'"
      ]
     },
     "execution_count": 2,
     "metadata": {},
     "output_type": "execute_result"
    }
   ],
   "source": [
    "quotes = \"This is a string.\"\n",
    "quotes"
   ]
  },
  {
   "cell_type": "code",
   "execution_count": 3,
   "id": "ccccf1e2",
   "metadata": {},
   "outputs": [
    {
     "data": {
      "text/plain": [
       "'This is also a string.'"
      ]
     },
     "execution_count": 3,
     "metadata": {},
     "output_type": "execute_result"
    }
   ],
   "source": [
    "apostrophes = 'This is also a string.'\n",
    "apostrophes"
   ]
  },
  {
   "cell_type": "code",
   "execution_count": 4,
   "id": "d549bf42",
   "metadata": {},
   "outputs": [
    {
     "data": {
      "text/plain": [
       "'I told my friend,\"Python is my favorite language!\"'"
      ]
     },
     "execution_count": 4,
     "metadata": {},
     "output_type": "execute_result"
    }
   ],
   "source": [
    "string1 = 'I told my friend,\"Python is my favorite language!\"'\n",
    "string1"
   ]
  },
  {
   "cell_type": "code",
   "execution_count": 5,
   "id": "74425472",
   "metadata": {},
   "outputs": [
    {
     "data": {
      "text/plain": [
       "\"The language 'Python' is named after Monty Python, not the snake\""
      ]
     },
     "execution_count": 5,
     "metadata": {},
     "output_type": "execute_result"
    }
   ],
   "source": [
    "string2 = \"The language 'Python' is named after Monty Python, not the snake\"\n",
    "string2"
   ]
  },
  {
   "cell_type": "code",
   "execution_count": 6,
   "id": "727da64f",
   "metadata": {},
   "outputs": [
    {
     "data": {
      "text/plain": [
       "\"One of Python's strengths is its diverse and supportive community\""
      ]
     },
     "execution_count": 6,
     "metadata": {},
     "output_type": "execute_result"
    }
   ],
   "source": [
    "string3 = \"One of Python's strengths is its diverse and supportive community\"\n",
    "string3"
   ]
  }
 ],
 "metadata": {
  "kernelspec": {
   "display_name": "Python 3",
   "language": "python",
   "name": "python3"
  },
  "language_info": {
   "codemirror_mode": {
    "name": "ipython",
    "version": 3
   },
   "file_extension": ".py",
   "mimetype": "text/x-python",
   "name": "python",
   "nbconvert_exporter": "python",
   "pygments_lexer": "ipython3",
   "version": "3.13.3"
  }
 },
 "nbformat": 4,
 "nbformat_minor": 5
}
