{
 "cells": [
  {
   "cell_type": "code",
   "execution_count": 1,
   "id": "49e2d007",
   "metadata": {},
   "outputs": [
    {
     "data": {
      "text/plain": [
       "'The OC is a serie that you can watch in MAX'"
      ]
     },
     "execution_count": 1,
     "metadata": {},
     "output_type": "execute_result"
    }
   ],
   "source": [
    "the_oc = \"The OC is a serie that you can watch in MAX\"\n",
    "the_oc"
   ]
  }
 ],
 "metadata": {
  "kernelspec": {
   "display_name": "Python 3",
   "language": "python",
   "name": "python3"
  },
  "language_info": {
   "codemirror_mode": {
    "name": "ipython",
    "version": 3
   },
   "file_extension": ".py",
   "mimetype": "text/x-python",
   "name": "python",
   "nbconvert_exporter": "python",
   "pygments_lexer": "ipython3",
   "version": "3.13.3"
  }
 },
 "nbformat": 4,
 "nbformat_minor": 5
}
