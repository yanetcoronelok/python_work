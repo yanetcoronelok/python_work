{
 "cells": [
  {
   "cell_type": "markdown",
   "id": "6b879c9f",
   "metadata": {},
   "source": [
    "3-1. Names: Store the names of a few of your friends in a list called names. Print each person’s name by accessing each element in the list, one at a time.\n"
   ]
  },
  {
   "cell_type": "code",
   "execution_count": 3,
   "id": "50d97921",
   "metadata": {},
   "outputs": [],
   "source": [
    "names = ['lydia', 'pablo', 'leandro', 'erica', 'matias']"
   ]
  },
  {
   "cell_type": "code",
   "execution_count": 4,
   "id": "baf758ec",
   "metadata": {},
   "outputs": [
    {
     "name": "stdout",
     "output_type": "stream",
     "text": [
      "Lydia\n",
      "Pablo\n",
      "Leandro\n",
      "Erica\n",
      "Matias\n"
     ]
    }
   ],
   "source": [
    "print(names[0].title())\n",
    "print(names[1].title())\n",
    "print(names[2].title())\n",
    "print(names[3].title())\n",
    "print(names[4].title())"
   ]
  },
  {
   "cell_type": "code",
   "execution_count": 5,
   "id": "8fc34147",
   "metadata": {},
   "outputs": [
    {
     "name": "stdout",
     "output_type": "stream",
     "text": [
      "Matias\n",
      "Erica\n",
      "Leandro\n",
      "Pablo\n",
      "Lydia\n"
     ]
    }
   ],
   "source": [
    "print(names[-1].title())\n",
    "print(names[-2].title())\n",
    "print(names[-3].title())\n",
    "print(names[-4].title())\n",
    "print(names[-5].title())"
   ]
  },
  {
   "cell_type": "markdown",
   "id": "792e4b4d",
   "metadata": {},
   "source": [
    "3-2. Greetings: Start with the list you used in Exercise 3-1, but instead of just printing each person’s name, print a message to them. The text of each message should be the same, but each message should be personalized with the person’s name.\n"
   ]
  },
  {
   "cell_type": "code",
   "execution_count": null,
   "id": "c5f1d9df",
   "metadata": {},
   "outputs": [
    {
     "name": "stdout",
     "output_type": "stream",
     "text": [
      "Hello lydia, today is a beautiful day!\n"
     ]
    }
   ],
   "source": [
    "greetings = f'Hello {names[0].title()}, today is a beautiful day!'\n",
    "print(greetings)"
   ]
  },
  {
   "cell_type": "code",
   "execution_count": null,
   "id": "4e1a9e0f",
   "metadata": {},
   "outputs": [
    {
     "name": "stdout",
     "output_type": "stream",
     "text": [
      "Hello pablo, today is a beautiful day!\n"
     ]
    }
   ],
   "source": [
    "greetings = f'Hello {names[1].title()}, today is a beautiful day!'\n",
    "print(greetings)"
   ]
  },
  {
   "cell_type": "code",
   "execution_count": 12,
   "id": "eb8eaf9a",
   "metadata": {},
   "outputs": [
    {
     "name": "stdout",
     "output_type": "stream",
     "text": [
      "Hello Leandro, today is a beautiful day!\n"
     ]
    }
   ],
   "source": [
    "greetings = f'Hello {names[2].title()}, today is a beautiful day!'\n",
    "print(greetings)"
   ]
  },
  {
   "cell_type": "code",
   "execution_count": 14,
   "id": "2854571d",
   "metadata": {},
   "outputs": [
    {
     "name": "stdout",
     "output_type": "stream",
     "text": [
      "Hello Erica, today is a beautiful day!\n"
     ]
    }
   ],
   "source": [
    "greetings = f'Hello {names[3].title()}, today is a beautiful day!'\n",
    "print(greetings)"
   ]
  },
  {
   "cell_type": "markdown",
   "id": "1a2d289e",
   "metadata": {},
   "source": [
    "3-3. Your Own List: Think of your favorite mode of transportation, such as a motorcycle or a car, and make a list that stores several examples. Use your list to print a series of statements about these items, such as “I would like to own a Honda motorcycle.”"
   ]
  },
  {
   "cell_type": "code",
   "execution_count": 19,
   "id": "ecf4cd11",
   "metadata": {},
   "outputs": [
    {
     "name": "stdout",
     "output_type": "stream",
     "text": [
      "When I need to go somewhere, I usually walk , \n",
      "but when when the wheater is too hot or too cold I rather take a bus. \n",
      "If it is late at night and I'm far from home, I'd take a taxi\n"
     ]
    }
   ],
   "source": [
    "mode_of_transportation = ['walk', 'car', 'train', 'bus', 'motorcycle', 'taxi']\n",
    "statement = f\"When I need to go somewhere, I usually {mode_of_transportation[0]} , \\nbut when when the wheater is too hot or too cold I rather take a {mode_of_transportation[3]}. \\nIf it is late at night and I'm far from home, I'd take a {mode_of_transportation[-1]}\"\n",
    "print(statement)"
   ]
  }
 ],
 "metadata": {
  "kernelspec": {
   "display_name": "Python 3",
   "language": "python",
   "name": "python3"
  },
  "language_info": {
   "codemirror_mode": {
    "name": "ipython",
    "version": 3
   },
   "file_extension": ".py",
   "mimetype": "text/x-python",
   "name": "python",
   "nbconvert_exporter": "python",
   "pygments_lexer": "ipython3",
   "version": "3.13.3"
  }
 },
 "nbformat": 4,
 "nbformat_minor": 5
}
