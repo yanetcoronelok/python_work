{
 "cells": [
  {
   "cell_type": "markdown",
   "id": "3bacf82e",
   "metadata": {},
   "source": []
  },
  {
   "cell_type": "code",
   "execution_count": 1,
   "id": "031cb3da",
   "metadata": {},
   "outputs": [
    {
     "name": "stdout",
     "output_type": "stream",
     "text": [
      "['honda', 'yamaha', 'suzuki']\n"
     ]
    }
   ],
   "source": [
    "motorcycles =  ['honda', 'yamaha', 'suzuki']\n",
    "print(motorcycles)"
   ]
  },
  {
   "cell_type": "code",
   "execution_count": 3,
   "id": "dac8ef34",
   "metadata": {},
   "outputs": [
    {
     "name": "stdout",
     "output_type": "stream",
     "text": [
      "['ducati', 'yamaha', 'suzuki']\n"
     ]
    }
   ],
   "source": [
    "# Change a value inside a list\n",
    "motorcycles[0] = 'ducati'\n",
    "print(motorcycles)"
   ]
  },
  {
   "cell_type": "code",
   "execution_count": null,
   "id": "41b389a8",
   "metadata": {},
   "outputs": [
    {
     "name": "stdout",
     "output_type": "stream",
     "text": [
      "['ducati', 'yamaha', 'suzuki', 'honda']\n"
     ]
    }
   ],
   "source": [
    "# Add values to a list using append. This will add a value at the end of the list.\n",
    "motorcycles.append('honda')\n",
    "print(motorcycles)"
   ]
  },
  {
   "cell_type": "code",
   "execution_count": 5,
   "id": "027682c8",
   "metadata": {},
   "outputs": [
    {
     "name": "stdout",
     "output_type": "stream",
     "text": [
      "['Honda']\n"
     ]
    }
   ],
   "source": [
    "# New Motorcycles list\n",
    "\n",
    "new_list_motorcycles = []\n",
    "\n",
    "new_list_motorcycles.append('Honda')\n",
    "print(new_list_motorcycles)"
   ]
  },
  {
   "cell_type": "code",
   "execution_count": 6,
   "id": "eec9aa2a",
   "metadata": {},
   "outputs": [
    {
     "name": "stdout",
     "output_type": "stream",
     "text": [
      "['Honda', 'Suzuki']\n"
     ]
    }
   ],
   "source": [
    "new_list_motorcycles.append('Suzuki')\n",
    "print(new_list_motorcycles)"
   ]
  },
  {
   "cell_type": "code",
   "execution_count": 7,
   "id": "8cdb9c5e",
   "metadata": {},
   "outputs": [
    {
     "name": "stdout",
     "output_type": "stream",
     "text": [
      "['Honda', 'Suzuki', 'Yamaha']\n"
     ]
    }
   ],
   "source": [
    "new_list_motorcycles.append('Yamaha')\n",
    "print(new_list_motorcycles)"
   ]
  },
  {
   "cell_type": "markdown",
   "id": "a5e01a0e",
   "metadata": {},
   "source": [
    "\n",
    "You can add a new element at any position in your list by using the insert() method. You do this by specifying the index of the new element and the value of the new item"
   ]
  },
  {
   "cell_type": "code",
   "execution_count": 13,
   "id": "fc9093f2",
   "metadata": {},
   "outputs": [
    {
     "name": "stdout",
     "output_type": "stream",
     "text": [
      "['Honda', 'Suzuki', 'Ducati', 'Ducati', 'Yamaha']\n"
     ]
    }
   ],
   "source": [
    "new_list_motorcycles.insert(-1, 'Ducati')\n",
    "print(new_list_motorcycles)"
   ]
  },
  {
   "cell_type": "code",
   "execution_count": null,
   "id": "3cf21ea4",
   "metadata": {},
   "outputs": [
    {
     "name": "stdout",
     "output_type": "stream",
     "text": [
      "['Honda', 'Suzuki', 'Ducati', 'Yamaha']\n"
     ]
    }
   ],
   "source": [
    "#If you know the position of the item you want to remove from a list, you can use the del statement\n",
    "\n",
    "del new_list_motorcycles[2]\n",
    "print(new_list_motorcycles)"
   ]
  },
  {
   "cell_type": "markdown",
   "id": "643f3ecc",
   "metadata": {},
   "source": [
    "\n",
    "The pop() method removes the last item in a list, but it lets you work with that item after removing it."
   ]
  },
  {
   "cell_type": "code",
   "execution_count": 19,
   "id": "fa040727",
   "metadata": {},
   "outputs": [
    {
     "data": {
      "text/plain": [
       "['ducati', 'yamaha', 'suzuki', 'honda']"
      ]
     },
     "execution_count": 19,
     "metadata": {},
     "output_type": "execute_result"
    }
   ],
   "source": [
    "motorcycles"
   ]
  },
  {
   "cell_type": "code",
   "execution_count": 17,
   "id": "819eb6db",
   "metadata": {},
   "outputs": [
    {
     "name": "stdout",
     "output_type": "stream",
     "text": [
      "Ducati\n",
      "['Honda', 'Suzuki']\n"
     ]
    }
   ],
   "source": [
    "popped_motorcycle = new_list_motorcycles.pop()\n",
    "print(popped_motorcycle)\n",
    "print(new_list_motorcycles)"
   ]
  },
  {
   "cell_type": "code",
   "execution_count": 20,
   "id": "7daf9ccc",
   "metadata": {},
   "outputs": [
    {
     "name": "stdout",
     "output_type": "stream",
     "text": [
      "['honda', 'yamaha', 'suzuki', 'ducati']\n"
     ]
    }
   ],
   "source": [
    "motorcycles = ['honda', 'yamaha', 'suzuki', 'ducati']\n",
    "print(motorcycles)"
   ]
  },
  {
   "cell_type": "code",
   "execution_count": 22,
   "id": "b1cb26aa",
   "metadata": {},
   "outputs": [
    {
     "name": "stdout",
     "output_type": "stream",
     "text": [
      "['honda', 'yamaha', 'suzuki']\n",
      "\n",
      "A Ducati is too expensive for me.\n"
     ]
    }
   ],
   "source": [
    "too_expensive = 'ducati'\n",
    "motorcycles.remove(too_expensive)\n",
    "\n",
    "print(motorcycles)\n",
    "print(f\"\\nA {too_expensive.title()} is too expensive for me.\")"
   ]
  },
  {
   "cell_type": "markdown",
   "id": "9b5b7a5a",
   "metadata": {},
   "source": [
    "\n",
    "\tThe remove() method deletes only the first occurrence of the value you specify. If there’s a possibility the value appears more than once in the list, you’ll need to use a loop to make sure all occurrences of the value are removed."
   ]
  }
 ],
 "metadata": {
  "kernelspec": {
   "display_name": "Python 3",
   "language": "python",
   "name": "python3"
  },
  "language_info": {
   "codemirror_mode": {
    "name": "ipython",
    "version": 3
   },
   "file_extension": ".py",
   "mimetype": "text/x-python",
   "name": "python",
   "nbconvert_exporter": "python",
   "pygments_lexer": "ipython3",
   "version": "3.13.3"
  }
 },
 "nbformat": 4,
 "nbformat_minor": 5
}
