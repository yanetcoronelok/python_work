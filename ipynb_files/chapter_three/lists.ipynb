{
 "cells": [
  {
   "cell_type": "markdown",
   "id": "b81d974f",
   "metadata": {},
   "source": [
    "\n",
    "A list is a collection of items in a particular order."
   ]
  },
  {
   "cell_type": "code",
   "execution_count": 1,
   "id": "47f23aa4",
   "metadata": {},
   "outputs": [],
   "source": [
    "bicycles = ['trek', 'cannondale', 'redline', 'specialized']"
   ]
  },
  {
   "cell_type": "code",
   "execution_count": 2,
   "id": "636bd3dc",
   "metadata": {},
   "outputs": [
    {
     "data": {
      "text/plain": [
       "['trek', 'cannondale', 'redline', 'specialized']"
      ]
     },
     "execution_count": 2,
     "metadata": {},
     "output_type": "execute_result"
    }
   ],
   "source": [
    "bicycles"
   ]
  },
  {
   "cell_type": "markdown",
   "id": "fa1c7f37",
   "metadata": {},
   "source": [
    "\n",
    "Lists are ordered collections, so you can access any element in a list by telling Python the position, or index, of the item desired."
   ]
  },
  {
   "cell_type": "code",
   "execution_count": 3,
   "id": "ca6650fb",
   "metadata": {},
   "outputs": [
    {
     "name": "stdout",
     "output_type": "stream",
     "text": [
      "trek\n"
     ]
    }
   ],
   "source": [
    "print(bicycles[0])"
   ]
  },
  {
   "cell_type": "code",
   "execution_count": 4,
   "id": "7f7521fa",
   "metadata": {},
   "outputs": [
    {
     "name": "stdout",
     "output_type": "stream",
     "text": [
      "Trek\n"
     ]
    }
   ],
   "source": [
    "# You can add methods\n",
    "print(bicycles[0].title())"
   ]
  },
  {
   "cell_type": "markdown",
   "id": "4968e753",
   "metadata": {},
   "source": [
    "\n",
    "Python considers the first item in a list to be at position 0, not position 1.\n",
    "The second item in a list has an index of 1."
   ]
  },
  {
   "cell_type": "code",
   "execution_count": 5,
   "id": "32d4592e",
   "metadata": {},
   "outputs": [
    {
     "name": "stdout",
     "output_type": "stream",
     "text": [
      "Cannondale\n",
      "Redline\n"
     ]
    }
   ],
   "source": [
    "print(bicycles[1].title())\n",
    "print(bicycles[2].title())"
   ]
  },
  {
   "cell_type": "code",
   "execution_count": 6,
   "id": "f45915d3",
   "metadata": {},
   "outputs": [
    {
     "name": "stdout",
     "output_type": "stream",
     "text": [
      "Specialized\n"
     ]
    }
   ],
   "source": [
    "print(bicycles[-1].title())"
   ]
  },
  {
   "cell_type": "code",
   "execution_count": 9,
   "id": "0e6557fc",
   "metadata": {},
   "outputs": [
    {
     "data": {
      "text/plain": [
       "'My first bicycle was a Trek'"
      ]
     },
     "execution_count": 9,
     "metadata": {},
     "output_type": "execute_result"
    }
   ],
   "source": [
    "message = f'My first bicycle was a {bicycles[0].title()}'\n",
    "message"
   ]
  }
 ],
 "metadata": {
  "kernelspec": {
   "display_name": "Python 3",
   "language": "python",
   "name": "python3"
  },
  "language_info": {
   "codemirror_mode": {
    "name": "ipython",
    "version": 3
   },
   "file_extension": ".py",
   "mimetype": "text/x-python",
   "name": "python",
   "nbconvert_exporter": "python",
   "pygments_lexer": "ipython3",
   "version": "3.13.3"
  }
 },
 "nbformat": 4,
 "nbformat_minor": 5
}
