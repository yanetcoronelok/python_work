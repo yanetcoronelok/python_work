{
 "cells": [
  {
   "cell_type": "markdown",
   "id": "c486c4de",
   "metadata": {},
   "source": [
    "Famous Quote: Find a quote from a famous person you admire. Print the quote and the name of its author. Your output should look something like the following, including the quotation marks:\n",
    "Albert Einstein once said, “A person who never made a mistake never tried anything new.”"
   ]
  },
  {
   "cell_type": "markdown",
   "id": "2241e96a",
   "metadata": {},
   "source": [
    "Famous Quote 2: Repeat Exercise 2-5, but this time, represent the famous person’s name using a variable called famous_person. Then compose your message and represent it with a new variable called message. Print your message."
   ]
  },
  {
   "cell_type": "code",
   "execution_count": 10,
   "id": "492522c2",
   "metadata": {},
   "outputs": [
    {
     "data": {
      "text/plain": [
       "'\"Excellence is never an accident. It is always the result of high intention, sincere effort, and intelligent execution; it represents the wise choice of many alternatives - choice, not chance, determines your destiny.\"Aristotle'"
      ]
     },
     "execution_count": 10,
     "metadata": {},
     "output_type": "execute_result"
    }
   ],
   "source": [
    "quote = 'Excellence is never an accident. It is always the result of high intention, sincere effort, and intelligent execution; it represents the wise choice of many alternatives - choice, not chance, determines your destiny.'\n",
    "author = 'Aristotle'\n",
    "famous_quote = f'\"{quote}\"{author}'\n",
    "famous_quote"
   ]
  },
  {
   "cell_type": "code",
   "execution_count": 7,
   "id": "482ac88d",
   "metadata": {},
   "outputs": [
    {
     "data": {
      "text/plain": [
       "'Aristotle once said, \"Excellence is never an accident. It is always the result of high intention, sincere effort, and intelligent execution; it represents the wise choice of many alternatives - choice, not chance, determines your destiny.\"'"
      ]
     },
     "execution_count": 7,
     "metadata": {},
     "output_type": "execute_result"
    }
   ],
   "source": [
    "famous_quote2 = f'{author} once said, \"{quote}\"'\n",
    "famous_quote2"
   ]
  }
 ],
 "metadata": {
  "kernelspec": {
   "display_name": "Python 3",
   "language": "python",
   "name": "python3"
  },
  "language_info": {
   "codemirror_mode": {
    "name": "ipython",
    "version": 3
   },
   "file_extension": ".py",
   "mimetype": "text/x-python",
   "name": "python",
   "nbconvert_exporter": "python",
   "pygments_lexer": "ipython3",
   "version": "3.13.3"
  }
 },
 "nbformat": 4,
 "nbformat_minor": 5
}
