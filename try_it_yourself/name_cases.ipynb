{
 "cells": [
  {
   "cell_type": "markdown",
   "id": "c0baab01",
   "metadata": {},
   "source": [
    "Personal Message: Use a variable to represent a person’s name, and print a message to that person. Your message should be simple, such as, “Hello Eric, would you like to learn some Python today?”"
   ]
  },
  {
   "cell_type": "code",
   "execution_count": 9,
   "id": "e0babd1a",
   "metadata": {},
   "outputs": [
    {
     "data": {
      "text/plain": [
       "\"Hello Fabricio, let's learn some Python\""
      ]
     },
     "execution_count": 9,
     "metadata": {},
     "output_type": "execute_result"
    }
   ],
   "source": [
    "first_name = 'Fabricio'\n",
    "last_name = 'Fa'\n",
    "message = f\"Hello {first_name}, let's learn some Python\"\n",
    "message"
   ]
  },
  {
   "cell_type": "markdown",
   "id": "e06d0c1e",
   "metadata": {},
   "source": [
    "Name Cases: Use a variable to represent a person’s name, and then print that person’s name in lowercase, uppercase, and title case."
   ]
  },
  {
   "cell_type": "code",
   "execution_count": 6,
   "id": "a9ce9799",
   "metadata": {},
   "outputs": [
    {
     "data": {
      "text/plain": [
       "'Fabricio Fa'"
      ]
     },
     "execution_count": 6,
     "metadata": {},
     "output_type": "execute_result"
    }
   ],
   "source": [
    "full_name = f'{first_name} {last_name}'\n",
    "full_name.title()"
   ]
  },
  {
   "cell_type": "code",
   "execution_count": null,
   "id": "9f880e32",
   "metadata": {},
   "outputs": [
    {
     "data": {
      "text/plain": [
       "'FABRICIO FA'"
      ]
     },
     "execution_count": 7,
     "metadata": {},
     "output_type": "execute_result"
    }
   ],
   "source": [
    "full_name = f'{first_name} {last_name}'\n",
    "full_name.upper()"
   ]
  }
 ],
 "metadata": {
  "kernelspec": {
   "display_name": "Python 3",
   "language": "python",
   "name": "python3"
  },
  "language_info": {
   "codemirror_mode": {
    "name": "ipython",
    "version": 3
   },
   "file_extension": ".py",
   "mimetype": "text/x-python",
   "name": "python",
   "nbconvert_exporter": "python",
   "pygments_lexer": "ipython3",
   "version": "3.13.3"
  }
 },
 "nbformat": 4,
 "nbformat_minor": 5
}
