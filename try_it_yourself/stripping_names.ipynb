{
 "cells": [
  {
   "cell_type": "markdown",
   "id": "17ac0849",
   "metadata": {},
   "source": [
    "Stripping Names: Use a variable to represent a person’s name, and include some whitespace characters at the beginning and end of the name. Make sure you use each character combination, \"\\t\" and \"\\n\", at least once.\n",
    "Print the name once, so the whitespace around the name is displayed. Then print the name using each of the three stripping functions, lstrip(), rstrip(), and strip()."
   ]
  },
  {
   "cell_type": "code",
   "execution_count": 1,
   "id": "277124ae",
   "metadata": {},
   "outputs": [
    {
     "data": {
      "text/plain": [
       "' Yanet '"
      ]
     },
     "execution_count": 1,
     "metadata": {},
     "output_type": "execute_result"
    }
   ],
   "source": [
    "name = ' Yanet '\n",
    "name"
   ]
  },
  {
   "cell_type": "code",
   "execution_count": 10,
   "id": "f71ae001",
   "metadata": {},
   "outputs": [
    {
     "data": {
      "text/plain": [
       "'Yanet '"
      ]
     },
     "execution_count": 10,
     "metadata": {},
     "output_type": "execute_result"
    }
   ],
   "source": [
    "name.lstrip()"
   ]
  },
  {
   "cell_type": "code",
   "execution_count": 11,
   "id": "4c2f2e48",
   "metadata": {},
   "outputs": [
    {
     "data": {
      "text/plain": [
       "' Yanet'"
      ]
     },
     "execution_count": 11,
     "metadata": {},
     "output_type": "execute_result"
    }
   ],
   "source": [
    "name.rstrip()"
   ]
  },
  {
   "cell_type": "code",
   "execution_count": 3,
   "id": "45499157",
   "metadata": {},
   "outputs": [
    {
     "name": "stdout",
     "output_type": "stream",
     "text": [
      "Yanet\n"
     ]
    }
   ],
   "source": [
    "print(name.strip())"
   ]
  },
  {
   "cell_type": "code",
   "execution_count": 4,
   "id": "05aafdf6",
   "metadata": {},
   "outputs": [
    {
     "name": "stdout",
     "output_type": "stream",
     "text": [
      "Names: \n",
      "\tYanet\n",
      "\tErica\n",
      "\tLeandro\n",
      "\tPablo\n"
     ]
    }
   ],
   "source": [
    "print(\"Names: \\n\\tYanet\\n\\tErica\\n\\tLeandro\\n\\tPablo\")"
   ]
  },
  {
   "cell_type": "code",
   "execution_count": 9,
   "id": "48f68ff9",
   "metadata": {},
   "outputs": [
    {
     "name": "stdout",
     "output_type": "stream",
     "text": [
      "Full name:\n",
      "\tYanet Coronel\n",
      "Age: \n",
      "\t35\n",
      "Gender: \n",
      "\tfemale\n"
     ]
    }
   ],
   "source": [
    "first_name = 'Yanet'\n",
    "last_name = 'Coronel'\n",
    "age = '35'\n",
    "gender = 'female'\n",
    "\n",
    "print(f'Full name:\\n\\t{first_name} {last_name}\\nAge: \\n\\t{age}\\nGender: \\n\\t{gender}')"
   ]
  },
  {
   "cell_type": "markdown",
   "id": "6b3646ce",
   "metadata": {},
   "source": [
    "Page 55"
   ]
  }
 ],
 "metadata": {
  "kernelspec": {
   "display_name": "Python 3",
   "language": "python",
   "name": "python3"
  },
  "language_info": {
   "codemirror_mode": {
    "name": "ipython",
    "version": 3
   },
   "file_extension": ".py",
   "mimetype": "text/x-python",
   "name": "python",
   "nbconvert_exporter": "python",
   "pygments_lexer": "ipython3",
   "version": "3.13.3"
  }
 },
 "nbformat": 4,
 "nbformat_minor": 5
}
